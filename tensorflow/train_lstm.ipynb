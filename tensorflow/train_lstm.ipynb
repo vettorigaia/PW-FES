{
 "cells": [
  {
   "cell_type": "markdown",
   "metadata": {},
   "source": [
    "## Train LSTM model "
   ]
  },
  {
   "cell_type": "code",
   "execution_count": 14,
   "metadata": {},
   "outputs": [],
   "source": [
    "# Import required modules\n",
    "import os; os.environ['TF_CPP_MIN_LOG_LEVEL']='3'; \n",
    "import numpy as np; import pandas as pd\n",
    "import tensorflow as tf; import sklearn\n",
    "from sklearn import metrics as skmetrics; import pickle\n",
    "from sklearn.model_selection import train_test_split\n",
    "import matplotlib.pyplot as plt\n",
    "from tensorflow.keras.callbacks import EarlyStopping"
   ]
  },
  {
   "cell_type": "code",
   "execution_count": 15,
   "metadata": {},
   "outputs": [],
   "source": [
    "# Project folder\n",
    "BASE_DIR = os.getcwd()\n",
    "# Data folder\n",
    "DATA_DIR = os.path.join(BASE_DIR, \"data\")\n",
    "# Model folder\n",
    "MODEL_DIR = os.path.join(BASE_DIR, \"model\")"
   ]
  },
  {
   "cell_type": "code",
   "execution_count": 16,
   "metadata": {},
   "outputs": [
    {
     "data": {
      "text/html": [
       "<div>\n",
       "<style scoped>\n",
       "    .dataframe tbody tr th:only-of-type {\n",
       "        vertical-align: middle;\n",
       "    }\n",
       "\n",
       "    .dataframe tbody tr th {\n",
       "        vertical-align: top;\n",
       "    }\n",
       "\n",
       "    .dataframe thead th {\n",
       "        text-align: right;\n",
       "    }\n",
       "</style>\n",
       "<table border=\"1\" class=\"dataframe\">\n",
       "  <thead>\n",
       "    <tr style=\"text-align: right;\">\n",
       "      <th></th>\n",
       "      <th>0</th>\n",
       "      <th>1</th>\n",
       "      <th>2</th>\n",
       "      <th>3</th>\n",
       "      <th>4</th>\n",
       "      <th>5</th>\n",
       "      <th>6</th>\n",
       "      <th>7</th>\n",
       "      <th>8</th>\n",
       "      <th>9</th>\n",
       "      <th>...</th>\n",
       "      <th>15</th>\n",
       "      <th>16</th>\n",
       "      <th>17</th>\n",
       "      <th>18</th>\n",
       "      <th>19</th>\n",
       "      <th>20</th>\n",
       "      <th>21</th>\n",
       "      <th>22</th>\n",
       "      <th>23</th>\n",
       "      <th>24</th>\n",
       "    </tr>\n",
       "  </thead>\n",
       "  <tbody>\n",
       "    <tr>\n",
       "      <th>0</th>\n",
       "      <td>9.265666</td>\n",
       "      <td>0.108136</td>\n",
       "      <td>2.991063</td>\n",
       "      <td>-0.006074</td>\n",
       "      <td>0.006111</td>\n",
       "      <td>0.006126</td>\n",
       "      <td>9.438098</td>\n",
       "      <td>-0.060146</td>\n",
       "      <td>2.575927</td>\n",
       "      <td>-0.000009</td>\n",
       "      <td>...</td>\n",
       "      <td>0.004675</td>\n",
       "      <td>-0.007593</td>\n",
       "      <td>-0.002995</td>\n",
       "      <td>-1.211598</td>\n",
       "      <td>-9.734271</td>\n",
       "      <td>0.383632</td>\n",
       "      <td>0.010792</td>\n",
       "      <td>-0.012150</td>\n",
       "      <td>-0.006021</td>\n",
       "      <td>0.0</td>\n",
       "    </tr>\n",
       "    <tr>\n",
       "      <th>1</th>\n",
       "      <td>9.265348</td>\n",
       "      <td>0.058572</td>\n",
       "      <td>3.015746</td>\n",
       "      <td>-0.004560</td>\n",
       "      <td>0.003057</td>\n",
       "      <td>0.004592</td>\n",
       "      <td>9.414167</td>\n",
       "      <td>-0.083982</td>\n",
       "      <td>2.501518</td>\n",
       "      <td>-0.003059</td>\n",
       "      <td>...</td>\n",
       "      <td>0.004698</td>\n",
       "      <td>-0.009127</td>\n",
       "      <td>-0.004512</td>\n",
       "      <td>-1.212305</td>\n",
       "      <td>-9.661064</td>\n",
       "      <td>0.383845</td>\n",
       "      <td>0.006171</td>\n",
       "      <td>-0.007595</td>\n",
       "      <td>-0.003001</td>\n",
       "      <td>0.0</td>\n",
       "    </tr>\n",
       "    <tr>\n",
       "      <th>2</th>\n",
       "      <td>9.240559</td>\n",
       "      <td>0.033879</td>\n",
       "      <td>2.967078</td>\n",
       "      <td>-0.006095</td>\n",
       "      <td>0.000010</td>\n",
       "      <td>0.004590</td>\n",
       "      <td>9.438461</td>\n",
       "      <td>-0.157443</td>\n",
       "      <td>2.525095</td>\n",
       "      <td>-0.010680</td>\n",
       "      <td>...</td>\n",
       "      <td>0.003142</td>\n",
       "      <td>-0.006102</td>\n",
       "      <td>-0.006060</td>\n",
       "      <td>-1.236322</td>\n",
       "      <td>-9.661497</td>\n",
       "      <td>0.384069</td>\n",
       "      <td>-0.001455</td>\n",
       "      <td>-0.007664</td>\n",
       "      <td>-0.004543</td>\n",
       "      <td>0.0</td>\n",
       "    </tr>\n",
       "    <tr>\n",
       "      <th>3</th>\n",
       "      <td>9.265206</td>\n",
       "      <td>0.057848</td>\n",
       "      <td>2.966783</td>\n",
       "      <td>-0.000018</td>\n",
       "      <td>-0.006103</td>\n",
       "      <td>-0.000010</td>\n",
       "      <td>9.414123</td>\n",
       "      <td>-0.157370</td>\n",
       "      <td>2.500646</td>\n",
       "      <td>-0.010675</td>\n",
       "      <td>...</td>\n",
       "      <td>-0.003006</td>\n",
       "      <td>-0.003104</td>\n",
       "      <td>-0.003044</td>\n",
       "      <td>-1.211374</td>\n",
       "      <td>-9.685310</td>\n",
       "      <td>0.408523</td>\n",
       "      <td>-0.006079</td>\n",
       "      <td>-0.003101</td>\n",
       "      <td>0.000003</td>\n",
       "      <td>0.0</td>\n",
       "    </tr>\n",
       "    <tr>\n",
       "      <th>4</th>\n",
       "      <td>9.265506</td>\n",
       "      <td>0.082565</td>\n",
       "      <td>2.966368</td>\n",
       "      <td>0.006081</td>\n",
       "      <td>-0.004588</td>\n",
       "      <td>-0.004598</td>\n",
       "      <td>9.438305</td>\n",
       "      <td>-0.109093</td>\n",
       "      <td>2.550411</td>\n",
       "      <td>-0.022872</td>\n",
       "      <td>...</td>\n",
       "      <td>-0.000003</td>\n",
       "      <td>0.001500</td>\n",
       "      <td>-0.004586</td>\n",
       "      <td>-1.211067</td>\n",
       "      <td>-9.686044</td>\n",
       "      <td>0.335103</td>\n",
       "      <td>0.001551</td>\n",
       "      <td>-0.003039</td>\n",
       "      <td>0.000018</td>\n",
       "      <td>0.0</td>\n",
       "    </tr>\n",
       "  </tbody>\n",
       "</table>\n",
       "<p>5 rows × 25 columns</p>\n",
       "</div>"
      ],
      "text/plain": [
       "         0         1         2         3         4         5         6   \\\n",
       "0  9.265666  0.108136  2.991063 -0.006074  0.006111  0.006126  9.438098   \n",
       "1  9.265348  0.058572  3.015746 -0.004560  0.003057  0.004592  9.414167   \n",
       "2  9.240559  0.033879  2.967078 -0.006095  0.000010  0.004590  9.438461   \n",
       "3  9.265206  0.057848  2.966783 -0.000018 -0.006103 -0.000010  9.414123   \n",
       "4  9.265506  0.082565  2.966368  0.006081 -0.004588 -0.004598  9.438305   \n",
       "\n",
       "         7         8         9   ...        15        16        17        18  \\\n",
       "0 -0.060146  2.575927 -0.000009  ...  0.004675 -0.007593 -0.002995 -1.211598   \n",
       "1 -0.083982  2.501518 -0.003059  ...  0.004698 -0.009127 -0.004512 -1.212305   \n",
       "2 -0.157443  2.525095 -0.010680  ...  0.003142 -0.006102 -0.006060 -1.236322   \n",
       "3 -0.157370  2.500646 -0.010675  ... -0.003006 -0.003104 -0.003044 -1.211374   \n",
       "4 -0.109093  2.550411 -0.022872  ... -0.000003  0.001500 -0.004586 -1.211067   \n",
       "\n",
       "         19        20        21        22        23   24  \n",
       "0 -9.734271  0.383632  0.010792 -0.012150 -0.006021  0.0  \n",
       "1 -9.661064  0.383845  0.006171 -0.007595 -0.003001  0.0  \n",
       "2 -9.661497  0.384069 -0.001455 -0.007664 -0.004543  0.0  \n",
       "3 -9.685310  0.408523 -0.006079 -0.003101  0.000003  0.0  \n",
       "4 -9.686044  0.335103  0.001551 -0.003039  0.000018  0.0  \n",
       "\n",
       "[5 rows x 25 columns]"
      ]
     },
     "execution_count": 16,
     "metadata": {},
     "output_type": "execute_result"
    }
   ],
   "source": [
    "# Load data\n",
    "df = pd.read_csv(os.path.join(DATA_DIR, \"data_train.csv\"), header=None)\n",
    "df.head()"
   ]
  },
  {
   "cell_type": "code",
   "execution_count": 17,
   "metadata": {},
   "outputs": [],
   "source": [
    "'''\n",
    "    *** Fixed parameters that are defined and should not be changed\n",
    "'''\n",
    "NUM_XSENS = 4\n",
    "INPUT_FEATURES = NUM_XSENS * 6"
   ]
  },
  {
   "cell_type": "code",
   "execution_count": 18,
   "metadata": {},
   "outputs": [],
   "source": [
    "'''\n",
    "    *** Parameters that should be tuned to solve the challenge ***\n",
    "'''\n",
    "\n",
    "# Number of tasks to classify (according to your experimental acquisition protocol)\n",
    "N_CLASSES = 4 \n",
    "# Length of the time window\n",
    "WINDOW_LENGTH = 5\n",
    "# Stride length (i.e., overlap between adjacent windows)\n",
    "STRIDE_LENGTH = 1\n",
    "\n",
    "# Learning rate\n",
    "learning_rate = 1e-3\n",
    "# Number of neurons for each LSTM layer\n",
    "neurons = [40, 20]\n",
    "# Dropout ratio for each LSTM layer \n",
    "dropouts = [0.15, 0.15]\n",
    "# Number of training epochs\n",
    "N_EPOCHS = 5\n",
    "# Batch size for training\n",
    "batch_size = 32\n",
    "\n",
    "# Please provide a dropout value for each LSTM layer\n",
    "# Set dropout[i] = 0.0 to keep all connections\n",
    "assert(len(neurons) == len(dropouts))"
   ]
  },
  {
   "cell_type": "code",
   "execution_count": 19,
   "metadata": {},
   "outputs": [
    {
     "name": "stdout",
     "output_type": "stream",
     "text": [
      "Input shape (X): (36389, 24) --- Output shape (y): (36389, 4)\n"
     ]
    }
   ],
   "source": [
    "# Data preparation\n",
    "X = df.iloc[:,0:-1].to_numpy()\n",
    "y = df.iloc[:,-1].to_numpy()\n",
    "y = tf.keras.utils.to_categorical(y)\n",
    "\n",
    "print(\"Input shape (X): {} --- Output shape (y): {}\".format(X.shape, y.shape))"
   ]
  },
  {
   "cell_type": "code",
   "execution_count": 20,
   "metadata": {},
   "outputs": [],
   "source": [
    "def build_sequences(df, y, window_length, input_features, stride):\n",
    "    # Sanity check to avoid runtime errors\n",
    "    assert window_length % stride == 0\n",
    "    dataset = []; labels = []\n",
    "    # Take only meaningful features\n",
    "    if type(df) == pd.core.frame.DataFrame:\n",
    "        temp = df.copy().values\n",
    "    else:\n",
    "        temp = df\n",
    "    # Compute padding length\n",
    "    padding_len = window_length - len(temp)%window_length\n",
    "    # Create padding and concatenate it\n",
    "    padding = np.zeros((padding_len, input_features), dtype='float64')\n",
    "    temp = np.concatenate((temp,padding))\n",
    "    # Build features windows with their corresponging labels\n",
    "    idx = 0\n",
    "    while idx+window_length <= len(temp):\n",
    "        dataset.append(temp[idx:idx+window_length])\n",
    "        labels.append(y[idx])\n",
    "        idx += stride\n",
    "    dataset = np.array(dataset)\n",
    "    labels = np.array(labels)\n",
    "    return dataset, labels"
   ]
  },
  {
   "cell_type": "code",
   "execution_count": 21,
   "metadata": {},
   "outputs": [
    {
     "name": "stdout",
     "output_type": "stream",
     "text": [
      "Train sets shape: (29111, 24) (29111, 4)\n",
      "Train sets shape: (7278, 24) (7278, 4)\n"
     ]
    }
   ],
   "source": [
    "'''\n",
    "    NOTE: in this example, we open a single file and we apply the train_test_split function\n",
    "          to extract 80% for training and 20% for testing the model.\n",
    "          In your code, you will need to load 2 files, 1 for training and 1 for testing\n",
    "'''\n",
    "\n",
    "# Use stratify=y to stratify on y (target variable)\n",
    "X_train, X_test, y_train, y_test = train_test_split(X, y, test_size=0.2, stratify=y)\n",
    "\n",
    "print(\"Train sets shape: {} {}\".format(X_train.shape, y_train.shape))\n",
    "print(\"Train sets shape: {} {}\".format(X_test.shape, y_test.shape))\n"
   ]
  },
  {
   "cell_type": "code",
   "execution_count": 22,
   "metadata": {},
   "outputs": [],
   "source": [
    "# Fit and trasnform with scaler\n",
    "scaler = sklearn.preprocessing.MinMaxScaler((-1,1))\n",
    "scaler.fit(X_train)\n",
    "\n",
    "# Scale input (X) data \n",
    "X_train = scaler.transform(X_train)\n",
    "X_test = scaler.transform(X_test)"
   ]
  },
  {
   "cell_type": "code",
   "execution_count": 23,
   "metadata": {},
   "outputs": [
    {
     "name": "stdout",
     "output_type": "stream",
     "text": [
      "Train sets shape: (29111, 5, 24) (29111, 4)\n",
      "Train sets shape: (7276, 5, 24) (7276, 4)\n"
     ]
    }
   ],
   "source": [
    "# Convert to sequences of length WINDOW_LENGTH\n",
    "X_train, y_train = build_sequences(X_train, y_train, window_length=WINDOW_LENGTH, input_features=INPUT_FEATURES, stride=STRIDE_LENGTH)\n",
    "X_test, y_test = build_sequences(X_test, y_test, window_length=WINDOW_LENGTH, input_features=INPUT_FEATURES, stride=STRIDE_LENGTH)\n",
    "\n",
    "print(\"Train sets shape: {} {}\".format(X_train.shape, y_train.shape))\n",
    "print(\"Train sets shape: {} {}\".format(X_test.shape, y_test.shape))"
   ]
  },
  {
   "cell_type": "code",
   "execution_count": 24,
   "metadata": {},
   "outputs": [],
   "source": [
    "# LSTM model \n",
    "def lstm_model(neurons=neurons, dropouts=dropouts, learning_rate=learning_rate, output_classes=N_CLASSES, window=WINDOW_LENGTH, features=INPUT_FEATURES):\n",
    "    # Input layer\n",
    "    input_layer = tf.keras.layers.Input((window, features))\n",
    "    x = input_layer\n",
    "    # Build the model recursively based on the list of neurons for each LSTM cell\n",
    "    # Add a dropout layer after every LSTM layer\n",
    "    for i in range(len(neurons)):\n",
    "        y = tf.keras.layers.LSTM(neurons[i], activation = \"tanh\", return_sequences = not(i == len(neurons)-1), kernel_initializer = \"HeUniform\")(x)\n",
    "        y = tf.keras.layers.Dropout(dropouts[i])(y)\n",
    "        x = y\n",
    "    # Output layer with N_CLASSES neurons: each provides the probability that the input belongs to that class (their sum equals 1)\n",
    "    output_layer = tf.keras.layers.Dense(output_classes, activation='softmax', kernel_initializer=\"RandomNormal\", name='output_layer')(x)\n",
    "    # Build the model\n",
    "    model = tf.keras.Model(inputs=input_layer, outputs=output_layer, name='task-classifier')\n",
    "    # Optimizer\n",
    "    optimizer = tf.keras.optimizers.RMSprop(learning_rate=learning_rate)\n",
    "    # Compile and return the model\n",
    "    model.compile(loss='categorical_crossentropy', optimizer=optimizer, metrics=['accuracy'])\n",
    "    return model"
   ]
  },
  {
   "cell_type": "code",
   "execution_count": 25,
   "metadata": {},
   "outputs": [
    {
     "name": "stdout",
     "output_type": "stream",
     "text": [
      "Model: \"task-classifier\"\n",
      "_________________________________________________________________\n",
      " Layer (type)                Output Shape              Param #   \n",
      "=================================================================\n",
      " input_2 (InputLayer)        [(None, 5, 24)]           0         \n",
      "                                                                 \n",
      " lstm_2 (LSTM)               (None, 5, 40)             10400     \n",
      "                                                                 \n",
      " dropout_2 (Dropout)         (None, 5, 40)             0         \n",
      "                                                                 \n",
      " lstm_3 (LSTM)               (None, 20)                4880      \n",
      "                                                                 \n",
      " dropout_3 (Dropout)         (None, 20)                0         \n",
      "                                                                 \n",
      " output_layer (Dense)        (None, 4)                 84        \n",
      "                                                                 \n",
      "=================================================================\n",
      "Total params: 15,364\n",
      "Trainable params: 15,364\n",
      "Non-trainable params: 0\n",
      "_________________________________________________________________\n"
     ]
    }
   ],
   "source": [
    "# Create the LSTM model and print its structure\n",
    "model = lstm_model()\n",
    "model.summary()"
   ]
  },
  {
   "cell_type": "code",
   "execution_count": 26,
   "metadata": {},
   "outputs": [
    {
     "name": "stdout",
     "output_type": "stream",
     "text": [
      "Epoch 1/5\n",
      "910/910 [==============================] - 9s 6ms/step - loss: 0.8117 - accuracy: 0.6675 - val_loss: 0.5703 - val_accuracy: 0.7673\n",
      "Epoch 2/5\n",
      "910/910 [==============================] - 7s 8ms/step - loss: 0.5598 - accuracy: 0.7763 - val_loss: 0.5109 - val_accuracy: 0.7910\n",
      "Epoch 3/5\n",
      "910/910 [==============================] - 8s 8ms/step - loss: 0.5148 - accuracy: 0.7928 - val_loss: 0.4887 - val_accuracy: 0.7938\n",
      "Epoch 4/5\n",
      "910/910 [==============================] - 8s 9ms/step - loss: 0.4900 - accuracy: 0.8009 - val_loss: 0.4719 - val_accuracy: 0.8058\n",
      "Epoch 5/5\n",
      "910/910 [==============================] - 7s 8ms/step - loss: 0.4757 - accuracy: 0.8059 - val_loss: 0.4822 - val_accuracy: 0.8002\n"
     ]
    }
   ],
   "source": [
    "# Fit with train data (NOTE: early stopping is active)\n",
    "# Read more here: https://keras.io/api/callbacks/early_stopping/\n",
    "history = model.fit(X_train.reshape(-1, WINDOW_LENGTH, INPUT_FEATURES), y_train, \n",
    "          epochs=N_EPOCHS,\n",
    "          batch_size=batch_size, \n",
    "          validation_data=(X_test.reshape(-1, WINDOW_LENGTH, INPUT_FEATURES), y_test),\n",
    "          callbacks=EarlyStopping(monitor='val_loss', patience=8, mode='min', restore_best_weights=True))"
   ]
  },
  {
   "cell_type": "code",
   "execution_count": 27,
   "metadata": {},
   "outputs": [
    {
     "data": {
      "text/plain": [
       "<matplotlib.legend.Legend at 0x7f5b055ac3d0>"
      ]
     },
     "execution_count": 27,
     "metadata": {},
     "output_type": "execute_result"
    },
    {
     "data": {
      "image/png": "[encoded data removed]",
      "text/plain": [
       "<Figure size 640x480 with 1 Axes>"
      ]
     },
     "metadata": {},
     "output_type": "display_data"
    },
    {
     "data": {
      "image/png": "[encoded data removed]",
      "text/plain": [
       "<Figure size 640x480 with 1 Axes>"
      ]
     },
     "metadata": {},
     "output_type": "display_data"
    }
   ],
   "source": [
    "# Plot training history (loss and accuracy)\n",
    "epochs = range(1, N_EPOCHS+1)\n",
    "\n",
    "plt.plot(epochs, history.history['accuracy'], 'bo', label='Training acc')\n",
    "plt.plot(epochs, history.history['val_accuracy'], 'b', label='Validation acc')\n",
    "plt.title('Training and validation accuracy')\n",
    "plt.legend()\n",
    "\n",
    "plt.figure()\n",
    "\n",
    "plt.plot(epochs, history.history['loss'], 'bo', label='Training loss')\n",
    "plt.plot(epochs, history.history['val_loss'], 'b', label='Validation loss')\n",
    "plt.title('Training and validation loss')\n",
    "plt.legend()"
   ]
  },
  {
   "cell_type": "code",
   "execution_count": 28,
   "metadata": {},
   "outputs": [
    {
     "name": "stdout",
     "output_type": "stream",
     "text": [
      "7276/7276 [==============================] - 15s 2ms/step\n",
      "Test accuracy: 80.02 %\n"
     ]
    }
   ],
   "source": [
    "# Model evaluation\n",
    "y_pred = model.predict(X_test.reshape(-1, WINDOW_LENGTH, INPUT_FEATURES), \n",
    "                       batch_size=1,   # predict with batch_size = 1 for real-time use                \n",
    ")\n",
    "y_pred = np.argmax(y_pred, axis=-1) # Convert to Nx1 array\n",
    "y_test = np.argmax(y_test, axis=-1)\n",
    "\n",
    "print(\"Test accuracy: {:4.2f} %\".format(100*skmetrics.accuracy_score(y_test, y_pred)))"
   ]
  },
  {
   "cell_type": "code",
   "execution_count": 29,
   "metadata": {},
   "outputs": [
    {
     "name": "stdout",
     "output_type": "stream",
     "text": [
      "Model exported to /home/mattia/dev/PW_FES/tensorflow/model\n"
     ]
    }
   ],
   "source": [
    "# Save model for real-time use\n",
    "try:\n",
    "    os.makedirs(MODEL_DIR)\n",
    "except FileExistsError:\n",
    "    pass\n",
    "try:\n",
    "    os.makedirs(MODEL_DIR)\n",
    "except FileExistsError:\n",
    "    pass\n",
    "\n",
    "model.save(os.path.join(MODEL_DIR, \"{}.h5\".format(model.name)))\n",
    "with open(os.path.join(MODEL_DIR, \"{}_scaler.h5\".format(model.name)), 'wb') as f:\n",
    "    pickle.dump(scaler,f)\n",
    "\n",
    "print(\"Model exported to {}\".format(MODEL_DIR))"
   ]
  }
 ],
 "metadata": {
  "kernelspec": {
   "display_name": "Python 3.9.6 64-bit ('keras')",
   "language": "python",
   "name": "python3"
  },
  "language_info": {
   "codemirror_mode": {
    "name": "ipython",
    "version": 3
   },
   "file_extension": ".py",
   "mimetype": "text/x-python",
   "name": "python",
   "nbconvert_exporter": "python",
   "pygments_lexer": "ipython3",
   "version": "3.9.6"
  },
  "orig_nbformat": 4,
  "vscode": {
   "interpreter": {
    "hash": "763ab43eebcff836da5d5a3288168db6c79365d83a062a6ea87ab55e4e72d1cf"
   }
  }
 },
 "nbformat": 4,
 "nbformat_minor": 2
}
